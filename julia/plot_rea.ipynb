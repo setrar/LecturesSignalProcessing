{
 "cells": [
  {
   "cell_type": "code",
   "execution_count": 13,
   "id": "922e240b-83b0-4f01-a830-16bf384b7422",
   "metadata": {},
   "outputs": [],
   "source": [
    "using Random, Distributions, Statistics, Plots"
   ]
  },
  {
   "cell_type": "code",
   "execution_count": 19,
   "id": "39001004-6ccf-498a-97e6-12ee93459222",
   "metadata": {},
   "outputs": [],
   "source": [
    "include(\"plot_rea.jl\")"
   ]
  },
  {
   "cell_type": "code",
   "execution_count": 20,
   "id": "4498005d-10f4-4849-873c-696715562088",
   "metadata": {},
   "outputs": [],
   "source": [
    "# Number of bins in histograms\n",
    "M = 10\n",
    "N = 1500  # Number of samples per realization\n",
    "K = 200   # Total number of realizations\n",
    "\n",
    "# Define Gaussian distribution\n",
    "XGauss = Normal(0, 1)\n",
    "\n",
    "# Sine wave plus noise\n",
    "X = 3 .* rand(XGauss, K, N) .+ 3 .* (ones(K, 1) * sin.(2 .* π .* collect(0:N-1) ./ N)');"
   ]
  },
  {
   "cell_type": "code",
   "execution_count": 21,
   "id": "1718bb90-4ac4-4d68-b896-91ae62233189",
   "metadata": {},
   "outputs": [
    {
     "ename": "LoadError",
     "evalue": "UndefVarError: `size!` not defined",
     "output_type": "error",
     "traceback": [
      "UndefVarError: `size!` not defined",
      "",
      "Stacktrace:",
      " [1] plot_rea(sig::Matrix{Float64}; nb::Int64, fig::Int64)",
      "   @ Main ~/Developer/LecturesSignalProcessing/julia/plot_rea.jl:11",
      " [2] top-level scope",
      "   @ In[21]:4"
     ]
    }
   ],
   "source": [
    "rv = Normal(0, 1)\n",
    "size = (100, 150)\n",
    "sig = rand(rv, size)\n",
    "plot_rea(sig, nb=10, fig=1)\n"
   ]
  },
  {
   "cell_type": "code",
   "execution_count": null,
   "id": "df7df9b3-a45a-45d5-8267-c4b73c47b48c",
   "metadata": {},
   "outputs": [],
   "source": []
  }
 ],
 "metadata": {
  "kernelspec": {
   "display_name": "Julia 1.10.4",
   "language": "julia",
   "name": "julia-1.10"
  },
  "language_info": {
   "file_extension": ".jl",
   "mimetype": "application/julia",
   "name": "julia",
   "version": "1.10.4"
  }
 },
 "nbformat": 4,
 "nbformat_minor": 5
}
